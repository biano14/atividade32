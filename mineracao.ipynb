{
 "cells": [
  {
   "cell_type": "markdown",
   "metadata": {},
   "source": [
    "# **Análise de cancelamentos de planos**\n",
    "---\n",
    "\n",
    "Neste *jupyter notebook*, vamos analisar as taxas de cancelamentos de planos da **Umbrella Corporation**, e a partir dessa análise, tentar descobrir os motivos que levaram a uma alta taxa de cancelamentos, e reverter a situação no processo.\n",
    "\n",
    "## *Passo 1:* abrir o *dataset*\n",
    "---\n",
    "A primeira coisa a se fazer é abrir o *dataset* no *notebook*. Para isso, iremos fazer uso de uma biblioteca do ***Python*** usada para análise de dados cha,ada **Pandas**.\n",
    "\n",
    "1. Baixe o *dataset* no tema **Materiais**, que se encontra no site ***Google Classroom*** (https://classroom.google.com) na pasta raíz do projeto.\n",
    "2. Em seguida, crie um ambiente virtual do Python na raiz do projeto `(.venv)`\n",
    "3. Após a criação do `.venv`, instale a biblioteca **Pandas** no ambiente virtual usanfo **CLI** através do comando `pip install pandas`. Não se esqueça de ativar o ambiente virtual no ***kernel*** do notebook no canto superior direito do notebook, em ***Selecione Kernel***\n",
    "\n",
    "## *Passo 2:* abrir o *dataset*\n",
    "---\n",
    "\n",
    "Com o **Pandas** instalado no ambiente virtual do nosso projeto, agoroa vamos abrir o **dataset**. Para isso, vamos crisr uma nova célula logo após essa célula de markdown, e digitarmos o código-fonte para abrir os dados do dataset no notebook. O código-fonte está logo abaixo:"
   ]
  },
  {
   "cell_type": "code",
   "execution_count": null,
   "metadata": {},
   "outputs": [],
   "source": [
    "# importando a bilioteca pandas\n",
    "import pandas as pd\n",
    "\n",
    "# lê os dados do dataset\n",
    "tabela = pd.read_csv('cancelamentos.csv')\n",
    "\n",
    "# mostra os dados da tabela\n",
    "display(tabela)\n"
   ]
  },
  {
   "cell_type": "markdown",
   "metadata": {},
   "source": [
    "O comando `display()`permite a exibição dos dados como se fosse uma tabela.\n",
    "\n",
    "Só que agora que finalmente temos os dados armazenados na variável `tabela`, precisamos filtrar esses dados.Vamos realizar a consulta, mas desta vez iremos retirar a coçuna ID, pois ela é inútil para a nossa análise de dados:\n"
   ]
  },
  {
   "cell_type": "code",
   "execution_count": null,
   "metadata": {},
   "outputs": [],
   "source": [
    "# exibe novamente os dados, eliminando a coluna ID\n",
    "tabela = tabela.drop('CustomerID', axis=1)\n",
    "display(tabela)"
   ]
  },
  {
   "cell_type": "markdown",
   "metadata": {},
   "source": [
    "## *Passo 3:* Tratamento de dados\n",
    "---\n",
    "## **Não é feitiçaria. É tecnologia ...**\n",
    "\n",
    "Graças ao **Python**, agora temos uma poderosa ferramenta para análise de dados muito mais perfeita que muita ferramenta femosa (*cof cof* Excel).\n",
    "\n",
    "Na nossa planilha, nós temos muitas linhas, sendo que algumas delas estão com dados vazios (mas mão sabemos quais, nem quantas). Portanto, vamos exibir as informações da nossa planilha para verificar quantas linhas possuem, de fato, dados, e quantas estão vazias. Veja a célula de código a seguir:\n",
    "\n"
   ]
  },
  {
   "cell_type": "code",
   "execution_count": null,
   "metadata": {},
   "outputs": [],
   "source": [
    "display(tabela.info())"
   ]
  },
  {
   "cell_type": "markdown",
   "metadata": {},
   "source": [
    "Os números de linhas para cada coluna não batem, o que indica que existem células não preenchidas poluindo nossa análise de dados. Precisaremos eliminá-las. Segue a célula de código abaixo:"
   ]
  },
  {
   "cell_type": "code",
   "execution_count": null,
   "metadata": {},
   "outputs": [],
   "source": [
    "tabela = tabela.dropna()\n",
    "display(tabela.info())\n"
   ]
  },
  {
   "cell_type": "markdown",
   "metadata": {},
   "source": [
    "## *Passo 4:* Análise de dados\n",
    "---\n",
    "\n",
    "Agora que os dados foram tratados, podemos iniciar a *Análise de Dados* propriamente dita. Que tal começarmos com a ***taxa de cancelamento da empresa**? Afinal de contas, esse é o nosso objetivo: diminuirmos a taxa de cancelamentos.\n",
    "Vamos pegar a coluna de taxa de cancelamentos e exibir para darmos uma olhada. Veja na célula de código a seguir:"
   ]
  },
  {
   "cell_type": "code",
   "execution_count": null,
   "metadata": {},
   "outputs": [],
   "source": [
    "display(tabela['cancelou'].value_counts())"
   ]
  },
  {
   "cell_type": "markdown",
   "metadata": {},
   "source": [
    "Repare que o número de cancelamentos é maior do que o de não cancelamentos, o que significa que algo de errado não está certo. Mas quanto de cancelamentos está acima do de não cancelados? Vamos refazer a análise. Observe a célula de código a seguir:"
   ]
  },
  {
   "cell_type": "code",
   "execution_count": null,
   "metadata": {},
   "outputs": [],
   "source": [
    "display(tabela['cancelou'].value_counts(normalize=True).map('{:.2%}'.format))"
   ]
  },
  {
   "cell_type": "markdown",
   "metadata": {},
   "source": [
    "Agora sabemos que **56,71%** dos clientes cancelaramseus contratos. Um número excessivamente alto, levando em conta que mais da metade dos clientes foram perdidos . Agora precisaremos investigar de onde vem essa taxa tão alta de cancelamentos.\n",
    "\n",
    "**IMPORTANTE: Na parte de análise de dados, não tem uma informação correta para ser analisada logo de cara. Esse é um processo que vai tomar tempo, pois você ,de fato, precisará analisar os dados e entender o que está acontecendo no seu dataset. Então pode ser que demore mais em alguns casos do que em putros para encontrar o que procura antes de propor uma solução**"
   ]
  },
  {
   "cell_type": "markdown",
   "metadata": {},
   "source": [
    "## *Passo 5:* Investigação do problema\n",
    "---\n",
    "\n",
    "Vamos por partes. Começaremos pela duração dos contratos. Ao verificar a coluna de duração de contratos (`duração_contrato`), veremos que existem 3 tipos de contratos: Anual, Trimestral e Mensal. Vejamos a duração média de cada tipo de contrato."
   ]
  },
  {
   "cell_type": "code",
   "execution_count": null,
   "metadata": {},
   "outputs": [],
   "source": [
    "# números brutos\n",
    "display(tabela['duracao_contrato'].value_counts())\n",
    "\n",
    "# porcentagem\n",
    "display(tabela['duracao_contrato'].value_counts(normalize=True).map('{:.2%}'.format))\n"
   ]
  },
  {
   "cell_type": "markdown",
   "metadata": {},
   "source": [
    "A partir dessa análise, verifico que a minoria dos meus clientes, possuem contrato do tipo **Mensal**. Será por que a maioria dos cancelamentos é do tipo tipo de contrato mensal? Para descobrir, vamos analisar a taxa de cancelamento por tipo de contrato. O que vamos fazer é agrupar os 3 tipos de contratos para verificar a taxa de cancelamento de cada um. Vejamos a célula de código abaixo:"
   ]
  },
  {
   "cell_type": "code",
   "execution_count": null,
   "metadata": {},
   "outputs": [],
   "source": [
    "display(tabela.groupby('duracao_contrato').mean(numeric_only=True))"
   ]
  },
  {
   "cell_type": "markdown",
   "metadata": {},
   "source": [
    "Podemos ver que tem algo estranho na taxa de cancelamento visto na coluna **cancelou**. Vamos verificar qual a porcentagem de cancelamentos de cada um dos tipos de contrato:"
   ]
  },
  {
   "cell_type": "code",
   "execution_count": null,
   "metadata": {},
   "outputs": [],
   "source": [
    "tb_cancelar = tabela.groupby('duracao_contrato').mean(numeric_only=True)\n",
    "display(tb_cancelar['cancelou'].map('{:.2%}'.format))"
   ]
  },
  {
   "cell_type": "markdown",
   "metadata": {},
   "source": [
    "Conforme análise, descobrimos que os clientes que possuem contrato do tipo mensal possuem uma taxa de 100% de cancelamento. Dessa forma,vamos re-analisar o dataset, mas desta vez, sem os contratos do tipo mensal."
   ]
  },
  {
   "cell_type": "code",
   "execution_count": null,
   "metadata": {},
   "outputs": [],
   "source": [
    "tabela = tabela[tabela['duracao_contrato'] != 'Monthly']\n",
    "display(tabela)\n",
    "display(tabela['cancelou'].value_counts())\n",
    "display(tabela['cancelou'].value_counts(normalize=True).map('{:.2%}'.format))"
   ]
  },
  {
   "cell_type": "markdown",
   "metadata": {},
   "source": [
    "Conseguimos diminuir a taxa de cancelamento para **46,05%**.É uma dimnuição de **10%**, mas a taxa de cancelamento ainda está muita alta. Afinal, são quase **50%** de cancelamentos, mesmo com a eliminaçãp dos contratos do tipo mensal. Então vamos continuar investigando."
   ]
  },
  {
   "cell_type": "markdown",
   "metadata": {},
   "source": [
    "### Gráficos\n",
    "---\n",
    "\n",
    "Uma das melhores formas de se formas de se analisar dados é através de gráficos, pois fica muito mais fácil visulalisar os dados e obter as informações necessárias.\n",
    "\n",
    "Para o noos caso aqui e agora, vamos usar a biblioteca **plotly.express** para gerar os graficos das nossas colunas. Obviamente, precisaremos fazer sua instalação através do comando `pip install plotly`no **CLI**"
   ]
  },
  {
   "cell_type": "markdown",
   "metadata": {},
   "source": [
    "Vamos usar o **plotly** para criar um histograma com cada uma das colunas. Assim poderemos analisar cada uma das informações e verificar como elas se comportam em relação aos cancelamentos da empresa.Vamos gerar aos cancelamentos da empresa.Vamos gerar os gráficos de todas as colinas a partir da célula de código a seguir:"
   ]
  },
  {
   "cell_type": "code",
   "execution_count": null,
   "metadata": {},
   "outputs": [],
   "source": [
    "import plotly.express as px\n",
    "\n",
    "for coluna in tabela.columns:\n",
    "    grafico = px.histogram(tabela, x=coluna, color='cancelou', width=600)\n",
    "    grafico.show()"
   ]
  },
  {
   "cell_type": "markdown",
   "metadata": {},
   "source": [
    "**Obs:** caso o códigopara exibição de gráficos retorne erro, instale uma biblioteca adicional que deverá corrigir isso `pip install nbformat`.Se meso após isso o gráficp não funcionar e continuar dando erro, feche o VSCode e reinicie o programa, reexecutando todas as células novamente.\n",
    "\n",
    "Após análise dos gráficos, pudemos verificar que a quantidade de cancelament de plano de clientes que atrasaram o pagamento é maior do que a de quem não atrasou o pagamento.\n",
    "\n",
    "Também pudemos verificar que a taxa está diretamente ligada ao número de ligações feitas ao call center."
   ]
  },
  {
   "cell_type": "markdown",
   "metadata": {},
   "source": [
    "**Solução:** melhor o setor de call center."
   ]
  },
  {
   "cell_type": "markdown",
   "metadata": {},
   "source": [
    "## Resultado\n",
    "---\n",
    "\n",
    "Analisando os gráficos de ligações para o call center e dos atrasos de pagamento, conseguimos chegar à raiz do problema: ** os clientes que fizeram mais que 5 ligações para o call center cancelaram seus planos. Para finalizarmos, vamos refazer a análise do dataset, re-exibindo  os dados, desta vez sem os planos mensais, e sem as ligações para o call center para o call center  que excederam  em 5 tentativas, e também vamos eliminar da exibição os clientes que passaram mais tempo sem pagar as suas assinaturas. Vejamos o código a seguir: "
   ]
  },
  {
   "cell_type": "code",
   "execution_count": null,
   "metadata": {},
   "outputs": [],
   "source": [
    "tabela = tabela[tabela['ligacoes_callcenter'] < 5]\n",
    "tabela = tabela[tabela['dias_atraso'] <= 20]\n",
    "display(tabela)\n",
    "display(tabela['cancelou'].value_counts())\n",
    "display(tabela['cancelou'].value_counts(normalize=True).map('{:.2%}'.format))"
   ]
  }
 ],
 "metadata": {
  "kernelspec": {
   "display_name": ".venv",
   "language": "python",
   "name": "python3"
  },
  "language_info": {
   "codemirror_mode": {
    "name": "ipython",
    "version": 3
   },
   "file_extension": ".py",
   "mimetype": "text/x-python",
   "name": "python",
   "nbconvert_exporter": "python",
   "pygments_lexer": "ipython3",
   "version": "3.12.5"
  }
 },
 "nbformat": 4,
 "nbformat_minor": 2
}
